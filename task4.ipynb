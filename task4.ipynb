{
  "nbformat": 4,
  "nbformat_minor": 0,
  "metadata": {
    "colab": {
      "provenance": []
    },
    "kernelspec": {
      "name": "python3",
      "display_name": "Python 3"
    },
    "language_info": {
      "name": "python"
    }
  },
  "cells": [
    {
      "cell_type": "code",
      "source": [
        "import torch\n",
        "import torch.nn as nn\n",
        "import torch.optim as optim\n",
        "from torchvision.utils import save_image\n",
        "from tqdm import tqdm\n",
        "\n",
        "# ✅ Generator Network\n",
        "class Generator(nn.Module):\n",
        "    def __init__(self):\n",
        "        super().__init__()\n",
        "        self.encoder = nn.Sequential(\n",
        "            nn.Conv2d(3, 64, 4, 2, 1), nn.LeakyReLU(0.2),\n",
        "            nn.Conv2d(64, 128, 4, 2, 1), nn.BatchNorm2d(128), nn.LeakyReLU(0.2),\n",
        "            nn.Conv2d(128, 256, 4, 2, 1), nn.BatchNorm2d(256), nn.LeakyReLU(0.2)\n",
        "        )\n",
        "        self.decoder = nn.Sequential(\n",
        "            nn.ConvTranspose2d(256, 128, 4, 2, 1), nn.BatchNorm2d(128), nn.ReLU(),\n",
        "            nn.ConvTranspose2d(128, 64, 4, 2, 1), nn.BatchNorm2d(64), nn.ReLU(),\n",
        "            nn.ConvTranspose2d(64, 3, 4, 2, 1), nn.Tanh()\n",
        "        )\n",
        "\n",
        "    def forward(self, x):\n",
        "        x = self.encoder(x)\n",
        "        x = self.decoder(x)\n",
        "        return x\n",
        "\n",
        "\n",
        "# ✅ Discriminator Network\n",
        "class Discriminator(nn.Module):\n",
        "    def __init__(self):\n",
        "        super().__init__()\n",
        "        self.model = nn.Sequential(\n",
        "            nn.Conv2d(6, 64, 4, 2, 1), nn.LeakyReLU(0.2),\n",
        "            nn.Conv2d(64, 128, 4, 2, 1), nn.BatchNorm2d(128), nn.LeakyReLU(0.2),\n",
        "            nn.Conv2d(128, 1, 4, 1, 1)\n",
        "        )\n",
        "\n",
        "    def forward(self, x, y):\n",
        "        # Concatenate input and target images along the channel dimension\n",
        "        return self.model(torch.cat([x, y], dim=1))\n",
        "\n",
        "\n",
        "# ✅ Setup\n",
        "device = \"cuda\" if torch.cuda.is_available() else \"cpu\"\n",
        "G = Generator().to(device)\n",
        "D = Discriminator().to(device)\n",
        "\n",
        "opt_G = optim.Adam(G.parameters(), lr=2e-4, betas=(0.5, 0.999))\n",
        "opt_D = optim.Adam(D.parameters(), lr=2e-4, betas=(0.5, 0.999))\n",
        "\n",
        "criterion_GAN = nn.BCEWithLogitsLoss()\n",
        "criterion_L1 = nn.L1Loss()\n",
        "\n",
        "# Dummy data (simulated input and target images)\n",
        "x = torch.randn(8, 3, 64, 64).to(device)  # Input images\n",
        "y = torch.randn(8, 3, 64, 64).to(device)  # Target images\n",
        "\n",
        "# ✅ Training loop (3 epochs for demo)\n",
        "for epoch in range(3):\n",
        "    tqdm.write(f\"Epoch {epoch+1}\")\n",
        "\n",
        "    # Generate fake images\n",
        "    fake_y = G(x)\n",
        "\n",
        "    # --- Train Discriminator ---\n",
        "    real_pred = D(x, y)\n",
        "    fake_pred = D(x, fake_y.detach())\n",
        "\n",
        "    loss_D_real = criterion_GAN(real_pred, torch.ones_like(real_pred))\n",
        "    loss_D_fake = criterion_GAN(fake_pred, torch.zeros_like(fake_pred))\n",
        "    loss_D = 0.5 * (loss_D_real + loss_D_fake)\n",
        "\n",
        "    opt_D.zero_grad()\n",
        "    loss_D.backward()\n",
        "    opt_D.step()\n",
        "\n",
        "    # --- Train Generator ---\n",
        "    fake_pred = D(x, fake_y)\n",
        "    loss_GAN = criterion_GAN(fake_pred, torch.ones_like(fake_pred))\n",
        "    loss_L1 = criterion_L1(fake_y, y) * 100\n",
        "    loss_G = loss_GAN + loss_L1\n",
        "\n",
        "    opt_G.zero_grad()\n",
        "    loss_G.backward()\n",
        "    opt_G.step()\n",
        "\n",
        "    tqdm.write(f\"Loss_D: {loss_D.item():.4f} | Loss_G: {loss_G.item():.4f}\")\n",
        "\n",
        "# ✅ Save generated images\n",
        "save_image((fake_y + 1) / 2, \"pix2pix_result.png\")\n",
        "print(\"✅ Training done. Saved: pix2pix_result.png\")\n"
      ],
      "metadata": {
        "colab": {
          "base_uri": "https://localhost:8080/"
        },
        "id": "u1kNaMfdKJU6",
        "outputId": "35dea086-ccef-4222-8f17-d8a19d45389e"
      },
      "execution_count": 3,
      "outputs": [
        {
          "output_type": "stream",
          "name": "stdout",
          "text": [
            "Epoch 1\n",
            "Loss_D: 0.7118 | Loss_G: 93.9017\n",
            "Epoch 2\n",
            "Loss_D: 0.7016 | Loss_G: 89.2064\n",
            "Epoch 3\n",
            "Loss_D: 0.6940 | Loss_G: 85.3956\n",
            "✅ Training done. Saved: pix2pix_result.png\n"
          ]
        }
      ]
    }
  ]
}